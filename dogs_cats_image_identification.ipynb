{
 "cells": [
  {
   "cell_type": "code",
   "execution_count": 19,
   "id": "e98e417e",
   "metadata": {},
   "outputs": [],
   "source": [
    "from tensorflow import keras"
   ]
  },
  {
   "cell_type": "code",
   "execution_count": 20,
   "id": "e4339ca4",
   "metadata": {},
   "outputs": [],
   "source": [
    "import tensorflow as tf"
   ]
  },
  {
   "cell_type": "code",
   "execution_count": 21,
   "id": "d8c5cbdf",
   "metadata": {},
   "outputs": [],
   "source": [
    "from tensorflow.keras import layers"
   ]
  },
  {
   "cell_type": "code",
   "execution_count": 22,
   "id": "e51761b4",
   "metadata": {},
   "outputs": [],
   "source": [
    "import os"
   ]
  },
  {
   "cell_type": "code",
   "execution_count": 23,
   "id": "a4eb1cc4",
   "metadata": {},
   "outputs": [],
   "source": [
    "import random"
   ]
  },
  {
   "cell_type": "code",
   "execution_count": 24,
   "id": "08fb9c1f",
   "metadata": {},
   "outputs": [],
   "source": [
    "import glob"
   ]
  },
  {
   "cell_type": "code",
   "execution_count": 25,
   "id": "91d79d78",
   "metadata": {},
   "outputs": [],
   "source": [
    "import shutil"
   ]
  },
  {
   "cell_type": "code",
   "execution_count": 26,
   "id": "734cfda7",
   "metadata": {},
   "outputs": [],
   "source": [
    "from tensorflow.keras.preprocessing.image import ImageDataGenerator"
   ]
  },
  {
   "cell_type": "code",
   "execution_count": 27,
   "id": "b4d209a0",
   "metadata": {},
   "outputs": [],
   "source": [
    "from tensorflow.keras.optimizers import Adam"
   ]
  },
  {
   "cell_type": "code",
   "execution_count": 28,
   "id": "7c4b5b1b",
   "metadata": {},
   "outputs": [],
   "source": [
    "import numpy as np"
   ]
  },
  {
   "cell_type": "code",
   "execution_count": 29,
   "id": "74bf699e",
   "metadata": {},
   "outputs": [],
   "source": [
    "import itertools\n",
    "import matplotlib.pyplot as plt\n",
    "%matplotlib inline"
   ]
  },
  {
   "cell_type": "code",
   "execution_count": 30,
   "id": "a4f7b049",
   "metadata": {},
   "outputs": [],
   "source": [
    "from sklearn.metrics import confusion_matrix"
   ]
  },
  {
   "cell_type": "code",
   "execution_count": 31,
   "id": "f9ad2bdb",
   "metadata": {},
   "outputs": [],
   "source": [
    "os.chdir('/Users/destr/Desktop/CSV-Files/cats_and_dogs')"
   ]
  },
  {
   "cell_type": "code",
   "execution_count": 32,
   "id": "03168f77",
   "metadata": {},
   "outputs": [
    {
     "name": "stdout",
     "output_type": "stream",
     "text": [
      "Found 1000 images belonging to 2 classes.\n"
     ]
    }
   ],
   "source": [
    "train_batches = ImageDataGenerator(preprocessing_function = tf.keras.applications.vgg16.preprocess_input).flow_from_directory(directory = '/Users/destr/Desktop/CSV-Files/cats_and_dogs/train', target_size = (224, 224), classes = ['cat', 'dog'], batch_size = 10)"
   ]
  },
  {
   "cell_type": "code",
   "execution_count": 33,
   "id": "832d5140",
   "metadata": {},
   "outputs": [
    {
     "name": "stdout",
     "output_type": "stream",
     "text": [
      "Found 200 images belonging to 2 classes.\n"
     ]
    }
   ],
   "source": [
    "valid_batches = ImageDataGenerator(preprocessing_function = tf.keras.applications.vgg16.preprocess_input).flow_from_directory(directory = '/Users/destr/Desktop/CSV-Files/cats_and_dogs/valid', target_size = (224, 224), classes = ['cat', 'dog'], batch_size = 10)"
   ]
  },
  {
   "cell_type": "code",
   "execution_count": 34,
   "id": "fbed1195",
   "metadata": {},
   "outputs": [
    {
     "name": "stdout",
     "output_type": "stream",
     "text": [
      "Found 100 images belonging to 2 classes.\n"
     ]
    }
   ],
   "source": [
    "test_batches = ImageDataGenerator(preprocessing_function = tf.keras.applications.vgg16.preprocess_input).flow_from_directory(directory = '/Users/destr/Desktop/CSV-Files/cats_and_dogs/test', target_size = (224, 224), classes = ['cat', 'dog'], batch_size = 10, shuffle = False)"
   ]
  },
  {
   "cell_type": "code",
   "execution_count": 35,
   "id": "a7582840",
   "metadata": {},
   "outputs": [],
   "source": [
    "model = keras.Sequential([layers.Conv2D(filters = 32, activation = 'relu', kernel_size = (3, 3), padding = 'same', input_shape = (224, 224, 3)),\n",
    "                          layers.MaxPool2D(pool_size = (2, 2), strides = 2),\n",
    "                          layers.Conv2D(filters = 64, activation = 'relu', kernel_size = (3, 3), padding = 'same'),\n",
    "                          layers.MaxPool2D(pool_size = (2, 2), strides = 2),\n",
    "                          layers.Flatten(),\n",
    "                          layers.Dense(units = 2, activation = 'softmax')])"
   ]
  },
  {
   "cell_type": "code",
   "execution_count": 36,
   "id": "3b8b67cc",
   "metadata": {},
   "outputs": [],
   "source": [
    "model.compile(optimizer = Adam(learning_rate = .0001), loss = 'categorical_crossentropy', metrics = ['accuracy'])"
   ]
  },
  {
   "cell_type": "code",
   "execution_count": 37,
   "id": "d4ebe6f1",
   "metadata": {},
   "outputs": [
    {
     "name": "stdout",
     "output_type": "stream",
     "text": [
      "Epoch 1/10\n",
      "100/100 - 38s - loss: 24.1851 - accuracy: 0.5760 - val_loss: 3.6593 - val_accuracy: 0.6300 - 38s/epoch - 381ms/step\n",
      "Epoch 2/10\n",
      "100/100 - 29s - loss: 1.8626 - accuracy: 0.7650 - val_loss: 2.7279 - val_accuracy: 0.6500 - 29s/epoch - 290ms/step\n",
      "Epoch 3/10\n",
      "100/100 - 29s - loss: 0.4669 - accuracy: 0.8860 - val_loss: 2.1941 - val_accuracy: 0.6350 - 29s/epoch - 292ms/step\n",
      "Epoch 4/10\n",
      "100/100 - 29s - loss: 0.1514 - accuracy: 0.9500 - val_loss: 2.0455 - val_accuracy: 0.6400 - 29s/epoch - 292ms/step\n",
      "Epoch 5/10\n",
      "100/100 - 30s - loss: 0.0299 - accuracy: 0.9900 - val_loss: 2.0971 - val_accuracy: 0.6600 - 30s/epoch - 300ms/step\n",
      "Epoch 6/10\n",
      "100/100 - 30s - loss: 0.0168 - accuracy: 0.9960 - val_loss: 2.2816 - val_accuracy: 0.6400 - 30s/epoch - 296ms/step\n",
      "Epoch 7/10\n",
      "100/100 - 30s - loss: 0.0020 - accuracy: 1.0000 - val_loss: 2.0707 - val_accuracy: 0.6600 - 30s/epoch - 296ms/step\n",
      "Epoch 8/10\n",
      "100/100 - 29s - loss: 5.5795e-04 - accuracy: 1.0000 - val_loss: 2.0680 - val_accuracy: 0.6550 - 29s/epoch - 292ms/step\n",
      "Epoch 9/10\n",
      "100/100 - 29s - loss: 4.4060e-04 - accuracy: 1.0000 - val_loss: 2.0645 - val_accuracy: 0.6600 - 29s/epoch - 292ms/step\n",
      "Epoch 10/10\n",
      "100/100 - 30s - loss: 3.7731e-04 - accuracy: 1.0000 - val_loss: 2.0687 - val_accuracy: 0.6600 - 30s/epoch - 295ms/step\n"
     ]
    },
    {
     "data": {
      "text/plain": [
       "<keras.callbacks.History at 0x197a03ff670>"
      ]
     },
     "execution_count": 37,
     "metadata": {},
     "output_type": "execute_result"
    }
   ],
   "source": [
    "model.fit(x = train_batches, validation_data = valid_batches, epochs = 10, verbose = 2)"
   ]
  },
  {
   "cell_type": "code",
   "execution_count": 38,
   "id": "69d22a94",
   "metadata": {},
   "outputs": [],
   "source": [
    "pred = model.predict(x = test_batches, verbose = 0)"
   ]
  },
  {
   "cell_type": "code",
   "execution_count": 39,
   "id": "c68d0e5b",
   "metadata": {},
   "outputs": [
    {
     "data": {
      "text/plain": [
       "array([1, 1, 0, 1, 0, 0, 1, 1, 0, 0, 0, 0, 0, 0, 0, 0, 0, 0, 1, 1, 0, 0,\n",
       "       0, 0, 0, 0, 0, 0, 1, 0, 1, 1, 0, 0, 1, 0, 1, 0, 0, 0, 1, 0, 1, 0,\n",
       "       0, 1, 0, 1, 0, 0, 1, 1, 1, 0, 1, 1, 1, 0, 1, 1, 1, 0, 1, 0, 1, 1,\n",
       "       1, 1, 1, 0, 0, 0, 1, 1, 1, 1, 0, 1, 0, 1, 1, 1, 1, 1, 1, 0, 1, 1,\n",
       "       1, 0, 0, 1, 1, 1, 1, 1, 1, 0, 1, 1], dtype=int64)"
      ]
     },
     "execution_count": 39,
     "metadata": {},
     "output_type": "execute_result"
    }
   ],
   "source": [
    "np.argmax(pred, axis = 1)"
   ]
  },
  {
   "cell_type": "code",
   "execution_count": 40,
   "id": "22f2a0e3",
   "metadata": {
    "scrolled": true
   },
   "outputs": [
    {
     "data": {
      "text/plain": [
       "array([[5.37349540e-11, 1.00000000e+00],\n",
       "       [1.37618306e-10, 1.00000000e+00],\n",
       "       [1.00000000e+00, 1.58990654e-10],\n",
       "       [9.54370307e-07, 9.99999046e-01],\n",
       "       [7.20431983e-01, 2.79567927e-01],\n",
       "       [9.97608781e-01, 2.39115744e-03],\n",
       "       [9.83409025e-03, 9.90165889e-01],\n",
       "       [2.26841062e-01, 7.73158908e-01],\n",
       "       [9.95968580e-01, 4.03140532e-03],\n",
       "       [8.65579426e-01, 1.34420559e-01],\n",
       "       [6.63191438e-01, 3.36808473e-01],\n",
       "       [9.99650955e-01, 3.49083333e-04],\n",
       "       [1.00000000e+00, 2.63999895e-13],\n",
       "       [9.99979854e-01, 2.01525327e-05],\n",
       "       [9.99777019e-01, 2.23046023e-04],\n",
       "       [9.99993801e-01, 6.15739600e-06],\n",
       "       [9.99991894e-01, 8.13404404e-06],\n",
       "       [9.87464190e-01, 1.25358570e-02],\n",
       "       [6.33573791e-07, 9.99999404e-01],\n",
       "       [9.03519322e-07, 9.99999046e-01],\n",
       "       [5.99802732e-01, 4.00197327e-01],\n",
       "       [9.58264172e-01, 4.17358615e-02],\n",
       "       [9.99999523e-01, 4.58861564e-07],\n",
       "       [9.66734111e-01, 3.32658738e-02],\n",
       "       [1.00000000e+00, 1.59887925e-08],\n",
       "       [1.00000000e+00, 9.26102667e-11],\n",
       "       [9.99999642e-01, 3.03025359e-07],\n",
       "       [9.99810517e-01, 1.89566097e-04],\n",
       "       [2.39610472e-05, 9.99976039e-01],\n",
       "       [8.76101494e-01, 1.23898499e-01],\n",
       "       [1.03814671e-06, 9.99998927e-01],\n",
       "       [4.54291033e-17, 1.00000000e+00],\n",
       "       [9.99911189e-01, 8.87890201e-05],\n",
       "       [9.94200468e-01, 5.79953473e-03],\n",
       "       [5.40050605e-05, 9.99945998e-01],\n",
       "       [7.22836196e-01, 2.77163863e-01],\n",
       "       [6.13633282e-02, 9.38636661e-01],\n",
       "       [8.52556884e-01, 1.47443116e-01],\n",
       "       [9.94047880e-01, 5.95215568e-03],\n",
       "       [9.64320660e-01, 3.56793031e-02],\n",
       "       [2.25958182e-04, 9.99774039e-01],\n",
       "       [8.34887624e-01, 1.65112302e-01],\n",
       "       [1.56624466e-01, 8.43375564e-01],\n",
       "       [9.42261040e-01, 5.77389933e-02],\n",
       "       [6.37381136e-01, 3.62618893e-01],\n",
       "       [1.57184392e-01, 8.42815638e-01],\n",
       "       [9.90677595e-01, 9.32240114e-03],\n",
       "       [1.82209551e-05, 9.99981761e-01],\n",
       "       [9.98994291e-01, 1.00570277e-03],\n",
       "       [9.88480806e-01, 1.15192039e-02],\n",
       "       [1.50381938e-01, 8.49618077e-01],\n",
       "       [3.67131637e-04, 9.99632835e-01],\n",
       "       [1.41495024e-03, 9.98585105e-01],\n",
       "       [9.60729122e-01, 3.92709114e-02],\n",
       "       [8.63115210e-03, 9.91368830e-01],\n",
       "       [4.49012066e-17, 1.00000000e+00],\n",
       "       [2.19053403e-03, 9.97809470e-01],\n",
       "       [9.60260570e-01, 3.97393666e-02],\n",
       "       [2.03343210e-04, 9.99796689e-01],\n",
       "       [2.22782296e-06, 9.99997735e-01],\n",
       "       [5.31678204e-04, 9.99468386e-01],\n",
       "       [1.00000000e+00, 4.10736014e-08],\n",
       "       [7.51433035e-05, 9.99924898e-01],\n",
       "       [9.99743402e-01, 2.56596832e-04],\n",
       "       [2.62157555e-05, 9.99973774e-01],\n",
       "       [9.81580377e-13, 1.00000000e+00],\n",
       "       [6.44470453e-02, 9.35553014e-01],\n",
       "       [1.83919389e-02, 9.81608093e-01],\n",
       "       [3.20841173e-05, 9.99967933e-01],\n",
       "       [9.60434973e-01, 3.95650752e-02],\n",
       "       [9.35006499e-01, 6.49934858e-02],\n",
       "       [9.98113036e-01, 1.88691984e-03],\n",
       "       [1.08672634e-01, 8.91327381e-01],\n",
       "       [7.17555056e-04, 9.99282420e-01],\n",
       "       [6.59159850e-03, 9.93408442e-01],\n",
       "       [5.37626332e-11, 1.00000000e+00],\n",
       "       [9.95516121e-01, 4.48394241e-03],\n",
       "       [6.84697966e-07, 9.99999285e-01],\n",
       "       [9.99561012e-01, 4.38972114e-04],\n",
       "       [5.93348704e-02, 9.40665126e-01],\n",
       "       [6.49659349e-09, 1.00000000e+00],\n",
       "       [5.69844519e-13, 1.00000000e+00],\n",
       "       [3.96112472e-01, 6.03887439e-01],\n",
       "       [1.45639380e-04, 9.99854326e-01],\n",
       "       [1.42885426e-06, 9.99998569e-01],\n",
       "       [9.98228133e-01, 1.77184062e-03],\n",
       "       [2.07961766e-05, 9.99979258e-01],\n",
       "       [2.28312746e-01, 7.71687269e-01],\n",
       "       [2.47689034e-03, 9.97523129e-01],\n",
       "       [6.49101675e-01, 3.50898415e-01],\n",
       "       [9.98749495e-01, 1.25045772e-03],\n",
       "       [1.54699781e-04, 9.99845266e-01],\n",
       "       [2.97319609e-08, 1.00000000e+00],\n",
       "       [1.46222151e-12, 1.00000000e+00],\n",
       "       [5.59376776e-02, 9.44062293e-01],\n",
       "       [1.32363435e-04, 9.99867678e-01],\n",
       "       [2.18881803e-04, 9.99781072e-01],\n",
       "       [9.56113935e-01, 4.38860878e-02],\n",
       "       [2.44861189e-02, 9.75513935e-01],\n",
       "       [3.32492455e-05, 9.99966741e-01]], dtype=float32)"
      ]
     },
     "execution_count": 40,
     "metadata": {},
     "output_type": "execute_result"
    }
   ],
   "source": [
    "pred"
   ]
  },
  {
   "cell_type": "code",
   "execution_count": 41,
   "id": "f45cf7fc",
   "metadata": {},
   "outputs": [],
   "source": [
    "def plot_confusion_matrix(cm, classes,\n",
    "                          normalize=False,\n",
    "                          title='Confusion matrix',\n",
    "                          cmap=plt.cm.Blues):\n",
    "    \"\"\"\n",
    "    This function prints and plots the confusion matrix.\n",
    "    Normalization can be applied by setting `normalize=True`.\n",
    "    \"\"\"\n",
    "    plt.imshow(cm, interpolation='nearest', cmap=cmap)\n",
    "    plt.title(title)\n",
    "    plt.colorbar()\n",
    "    tick_marks = np.arange(len(classes))\n",
    "    plt.xticks(tick_marks, classes, rotation=45)\n",
    "    plt.yticks(tick_marks, classes)\n",
    "\n",
    "    if normalize:\n",
    "        cm = cm.astype('float') / cm.sum(axis=1)[:, np.newaxis]\n",
    "        print(\"Normalized confusion matrix\")\n",
    "    else:\n",
    "        print('Confusion matrix, without normalization')\n",
    "\n",
    "    print(cm)\n",
    "\n",
    "    thresh = cm.max() / 2.\n",
    "    for i, j in itertools.product(range(cm.shape[0]), range(cm.shape[1])):\n",
    "        plt.text(j, i, cm[i, j],\n",
    "                 horizontalalignment=\"center\",\n",
    "                 color=\"white\" if cm[i, j] > thresh else \"black\")\n",
    "\n",
    "    plt.tight_layout()\n",
    "    plt.ylabel('True label')\n",
    "    plt.xlabel('Predicted label')"
   ]
  },
  {
   "cell_type": "code",
   "execution_count": 42,
   "id": "1074aa01",
   "metadata": {},
   "outputs": [],
   "source": [
    "conf_mat = confusion_matrix(y_true = test_batches.classes, y_pred = np.argmax(pred, axis = 1))"
   ]
  },
  {
   "cell_type": "code",
   "execution_count": 43,
   "id": "6209a1b1",
   "metadata": {},
   "outputs": [
    {
     "name": "stdout",
     "output_type": "stream",
     "text": [
      "Confusion matrix, without normalization\n",
      "[[34 16]\n",
      " [13 37]]\n"
     ]
    },
    {
     "data": {
      "image/png": "[encoded data removed]",
      "text/plain": [
       "<Figure size 432x288 with 2 Axes>"
      ]
     },
     "metadata": {
      "needs_background": "light"
     },
     "output_type": "display_data"
    }
   ],
   "source": [
    "plot_confusion_matrix(conf_mat, ['cat', 'dog'])"
   ]
  }
 ],
 "metadata": {
  "kernelspec": {
   "display_name": "Python 3 (ipykernel)",
   "language": "python",
   "name": "python3"
  },
  "language_info": {
   "codemirror_mode": {
    "name": "ipython",
    "version": 3
   },
   "file_extension": ".py",
   "mimetype": "text/x-python",
   "name": "python",
   "nbconvert_exporter": "python",
   "pygments_lexer": "ipython3",
   "version": "3.9.12"
  }
 },
 "nbformat": 4,
 "nbformat_minor": 5
}
